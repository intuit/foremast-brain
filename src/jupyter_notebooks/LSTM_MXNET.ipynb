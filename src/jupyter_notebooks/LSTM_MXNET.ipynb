{
 "cells": [
  {
   "cell_type": "markdown",
   "metadata": {},
   "source": [
    "Deep Learning (MXNET) LSTM\n"
   ]
  },
  {
   "cell_type": "code",
   "execution_count": 1,
   "metadata": {},
   "outputs": [],
   "source": [
    "import numpy as np\n",
    "import pandas as pd\n",
    "import json\n",
    "from datetime import datetime\n",
    "from dateutil.parser import parse\n",
    "import sys\n",
    "sys.path.append('../')\n",
    "from mlalgms.statsmodel import calculateHistoricalParameters"
   ]
  },
  {
   "cell_type": "code",
   "execution_count": 2,
   "metadata": {},
   "outputs": [
    {
     "name": "stdout",
     "output_type": "stream",
     "text": [
      "<class 'pandas.core.frame.DataFrame'>\n",
      "(4032, 2)\n",
      "['timestamp' 'value']\n"
     ]
    }
   ],
   "source": [
    "anomaly_data = pd.read_csv(\"../../test_data/timeserials2.csv\")\n",
    "print(type(anomaly_data))\n",
    "### print size\n",
    "print(anomaly_data.shape)\n",
    "### print columns\n",
    "print(anomaly_data.columns.values)"
   ]
  },
  {
   "cell_type": "code",
   "execution_count": 3,
   "metadata": {},
   "outputs": [],
   "source": [
    "from mlalgms.statsmodel import detectAnomalies\n",
    "from utils.converterutils import addHeader"
   ]
  },
  {
   "cell_type": "code",
   "execution_count": 4,
   "metadata": {},
   "outputs": [],
   "source": [
    "\n",
    "idx = anomaly_data.timestamp.values\n",
    "anomaly_data_ds = [parse(d) for d in idx ]\n",
    "y = anomaly_data.value.values\n",
    "df = addHeader (anomaly_data_ds, y)\n"
   ]
  },
  {
   "cell_type": "code",
   "execution_count": 5,
   "metadata": {},
   "outputs": [],
   "source": [
    "from mlalgms.deeplearning import L, ctx\n",
    "from mlalgms.deeplearning import createModel, trainModel, load_and_predict,calculateUpperLowerBound\n",
    "from mlalgms.deeplearning import evaluate_accuracy,load"
   ]
  },
  {
   "cell_type": "code",
   "execution_count": 6,
   "metadata": {},
   "outputs": [
    {
     "name": "stdout",
     "output_type": "stream",
     "text": [
      "Sequential(\n",
      "  (0): LSTM(None -> 25, TNC, dropout=0.35)\n",
      "  (1): LSTM(None -> 1, TNC)\n",
      ")\n"
     ]
    }
   ],
   "source": [
    "model, trainer = createModel(ctx, 1, 25, 0.001)\n",
    "print(model)"
   ]
  },
  {
   "cell_type": "code",
   "execution_count": 7,
   "metadata": {},
   "outputs": [],
   "source": [
    "from mlalgms.evaluator import ts_train_test_split\n"
   ]
  },
  {
   "cell_type": "code",
   "execution_count": 8,
   "metadata": {},
   "outputs": [
    {
     "name": "stdout",
     "output_type": "stream",
     "text": [
      "1210\n",
      "2822\n",
      "4032\n"
     ]
    }
   ],
   "source": [
    "train_data_selected, test_data_selected  = ts_train_test_split(df, split_ratio=0.7)\n",
    "print(len(test_data_selected) )\n",
    "print(len(train_data_selected))\n",
    "print(len(df))\n",
    "\n"
   ]
  },
  {
   "cell_type": "code",
   "execution_count": 9,
   "metadata": {},
   "outputs": [
    {
     "name": "stdout",
     "output_type": "stream",
     "text": [
      "4032\n"
     ]
    }
   ],
   "source": [
    "train = train_data_selected['y'].as_matrix().astype(np.float32)\n",
    "test= test_data_selected ['y'].as_matrix().astype(np.float32)\n",
    "all = df ['y'].as_matrix().astype(np.float32)\n",
    "print(len(all))"
   ]
  },
  {
   "cell_type": "code",
   "execution_count": 13,
   "metadata": {},
   "outputs": [],
   "source": [
    "batch_size = 128\n",
    "train_loader= load(train,batch_size)\n",
    "test_loader = load(test, batch_size)"
   ]
  },
  {
   "cell_type": "code",
   "execution_count": 14,
   "metadata": {},
   "outputs": [
    {
     "name": "stdout",
     "output_type": "stream",
     "text": [
      "[0.0009453790859444543, 0.0009523217266415368, 0.000953097746589818, 0.0009308859756382172, 0.0009274181387730133, 0.0009259492585640502, 0.0009279482158529827, 0.000929365325883618, 0.0009224937497808993, 0.0009159027835978676, 0.0009134910955570218, 0.0009124214928543433, 0.0009117202461430164, 0.0009101994680310346, 0.0009076623621734578, 0.0009051719629417715, 0.0009032456268276135, 0.0009016911799335505, 0.0009002352305248246, 0.0008987305140892757, 0.0008971792319204287, 0.0008956502252539908, 0.0008941853372522496, 0.0008927834855374225, 0.0008914262537117515]\n"
     ]
    }
   ],
   "source": [
    "train_mse, test_mse= trainModel(train_loader, test_loader, model,trainer, ctx, 1,1,25,batch_size)\n",
    "    \n",
    "print(train_mse)\n",
    "\n",
    "\n",
    " #   upper = calculateThreshold(train_predicted , 2)"
   ]
  },
  {
   "cell_type": "code",
   "execution_count": 15,
   "metadata": {},
   "outputs": [
    {
     "name": "stdout",
     "output_type": "stream",
     "text": [
      "[0.001886696563087753, 0.0018935084906843258, 0.0018944882165669696, 0.0018725544467997682, 0.0018689091421038029, 0.0018674130420549774, 0.0018695307026064256, 0.001871182370450697, 0.0018643721890839514, 0.0018577805855784389, 0.0018554345069787814, 0.001854510863086034, 0.0018539908040111188, 0.001852637769843568, 0.001850226001079136, 0.0018478464405234263, 0.0018460454896739977, 0.0018446319253598634, 0.0018433216624544001, 0.001841958138720656, 0.0018405409622573642, 0.0018391421726846602, 0.0018378047170699574, 0.0018365292556154602, 0.0018352963889810782]\n"
     ]
    }
   ],
   "source": [
    "print(test_mse)"
   ]
  },
  {
   "cell_type": "code",
   "execution_count": 16,
   "metadata": {},
   "outputs": [],
   "source": [
    "%matplotlib inline\n",
    "\n",
    "import matplotlib\n",
    "import matplotlib.pyplot as plt\n",
    "from IPython.core.pylabtools import figsize\n",
    "figsize(16, 7)"
   ]
  },
  {
   "cell_type": "code",
   "execution_count": 17,
   "metadata": {},
   "outputs": [],
   "source": [
    "\n",
    "\n",
    "# Plot the training vs test mse\n",
    "def plot_errors(train_mse, test_mse):\n",
    "    epochs = range(len(train_mse))\n",
    "    figsize(16, 7)\n",
    "    plt.plot(epochs, train_mse, label='Train')\n",
    "    plt.plot(epochs, test_mse, label='Test')\n",
    "    plt.ylabel('MSE')\n",
    "    plt.xlabel('Epoch')\n",
    "    plt.legend()\n",
    "    plt.show()"
   ]
  },
  {
   "cell_type": "code",
   "execution_count": 18,
   "metadata": {},
   "outputs": [
    {
     "data": {
      "image/png": "[encoded data removed]",
      "text/plain": [
       "<Figure size 1152x504 with 1 Axes>"
      ]
     },
     "metadata": {},
     "output_type": "display_data"
    }
   ],
   "source": [
    "plot_errors(train_mse, test_mse)"
   ]
  },
  {
   "cell_type": "code",
   "execution_count": 19,
   "metadata": {},
   "outputs": [
    {
     "name": "stdout",
     "output_type": "stream",
     "text": [
      "4032\n"
     ]
    }
   ],
   "source": [
    "tall= load_and_predict(all,L, model, batch_size,1)\n",
    "\n",
    "print(len(tall))\n",
    "    "
   ]
  },
  {
   "cell_type": "code",
   "execution_count": 20,
   "metadata": {},
   "outputs": [],
   "source": [
    "upper, lower = calculateUpperLowerBound(tall , 3)"
   ]
  },
  {
   "cell_type": "code",
   "execution_count": 21,
   "metadata": {},
   "outputs": [
    {
     "name": "stdout",
     "output_type": "stream",
     "text": [
      "[6.82171492e-04 2.42572478e-05 3.68369656e-05 ... 1.20112481e-05\n",
      " 1.19537663e-05 1.18609050e-05] 0.07408355783772745\n"
     ]
    }
   ],
   "source": [
    "print(tall, upper)"
   ]
  },
  {
   "cell_type": "code",
   "execution_count": 22,
   "metadata": {},
   "outputs": [
    {
     "name": "stdout",
     "output_type": "stream",
     "text": [
      "0.07408355783772745   ,  -0.07163270485717442\n"
     ]
    }
   ],
   "source": [
    "print(upper,'  , ', lower)"
   ]
  },
  {
   "cell_type": "code",
   "execution_count": 23,
   "metadata": {},
   "outputs": [],
   "source": [
    "anomaly = list(map(lambda v: v > upper, tall))"
   ]
  },
  {
   "cell_type": "code",
   "execution_count": 24,
   "metadata": {},
   "outputs": [
    {
     "name": "stdout",
     "output_type": "stream",
     "text": [
      "4032\n"
     ]
    }
   ],
   "source": [
    "print(len(anomaly))"
   ]
  },
  {
   "cell_type": "code",
   "execution_count": 25,
   "metadata": {},
   "outputs": [
    {
     "data": {
      "image/png": "[encoded data removed]",
      "text/plain": [
       "<Figure size 1152x504 with 1 Axes>"
      ]
     },
     "metadata": {},
     "output_type": "display_data"
    }
   ],
   "source": [
    "anomaly1 = list(map(lambda v: \"red\" if v else \"green\", anomaly))\n",
    "figsize(16, 7)\n",
    "plt.scatter(list(range(len(df['y']))),df['y'], c=anomaly1)\n",
    "plt.ylabel('y')\n",
    "plt.show()"
   ]
  },
  {
   "cell_type": "code",
   "execution_count": null,
   "metadata": {},
   "outputs": [],
   "source": []
  },
  {
   "cell_type": "code",
   "execution_count": null,
   "metadata": {},
   "outputs": [],
   "source": []
  }
 ],
 "metadata": {
  "kernelspec": {
   "display_name": "Python 3",
   "language": "python",
   "name": "python3"
  },
  "language_info": {
   "codemirror_mode": {
    "name": "ipython",
    "version": 3
   },
   "file_extension": ".py",
   "mimetype": "text/x-python",
   "name": "python",
   "nbconvert_exporter": "python",
   "pygments_lexer": "ipython3",
   "version": "3.6.5"
  }
 },
 "nbformat": 4,
 "nbformat_minor": 2
}
